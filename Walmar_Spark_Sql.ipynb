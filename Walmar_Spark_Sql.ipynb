{
  "nbformat": 4,
  "nbformat_minor": 0,
  "metadata": {
    "colab": {
      "provenance": []
    },
    "kernelspec": {
      "name": "python3",
      "display_name": "Python 3"
    },
    "language_info": {
      "name": "python"
    }
  },
  "cells": [
    {
      "cell_type": "code",
      "execution_count": null,
      "metadata": {
        "colab": {
          "base_uri": "https://localhost:8080/"
        },
        "id": "g2jjMEt90dYJ",
        "outputId": "1024d97e-c9fd-414f-943e-47d841f8439b"
      },
      "outputs": [
        {
          "output_type": "stream",
          "name": "stdout",
          "text": [
            "Looking in indexes: https://pypi.org/simple, https://us-python.pkg.dev/colab-wheels/public/simple/\n",
            "Collecting pyspark\n",
            "  Downloading pyspark-3.3.2.tar.gz (281.4 MB)\n",
            "\u001b[2K     \u001b[90m━━━━━━━━━━━━━━━━━━━━━━━━━━━━━━━━━━━━━━━\u001b[0m \u001b[32m281.4/281.4 MB\u001b[0m \u001b[31m4.9 MB/s\u001b[0m eta \u001b[36m0:00:00\u001b[0m\n",
            "\u001b[?25h  Preparing metadata (setup.py) ... \u001b[?25l\u001b[?25hdone\n",
            "Collecting py4j==0.10.9.5\n",
            "  Downloading py4j-0.10.9.5-py2.py3-none-any.whl (199 kB)\n",
            "\u001b[2K     \u001b[90m━━━━━━━━━━━━━━━━━━━━━━━━━━━━━━━━━━━━━━\u001b[0m \u001b[32m199.7/199.7 KB\u001b[0m \u001b[31m22.7 MB/s\u001b[0m eta \u001b[36m0:00:00\u001b[0m\n",
            "\u001b[?25hBuilding wheels for collected packages: pyspark\n",
            "  Building wheel for pyspark (setup.py) ... \u001b[?25l\u001b[?25hdone\n",
            "  Created wheel for pyspark: filename=pyspark-3.3.2-py2.py3-none-any.whl size=281824025 sha256=ac4705050dbd6811b1938d797bf393276bd8cfcd9a7ec9bc1fcce309146541a0\n",
            "  Stored in directory: /root/.cache/pip/wheels/6c/e3/9b/0525ce8a69478916513509d43693511463c6468db0de237c86\n",
            "Successfully built pyspark\n",
            "Installing collected packages: py4j, pyspark\n",
            "Successfully installed py4j-0.10.9.5 pyspark-3.3.2\n"
          ]
        }
      ],
      "source": [
        "!pip install pyspark"
      ]
    },
    {
      "cell_type": "code",
      "source": [
        "#Importing necessary Libraries and creating spark session\n",
        "from pyspark.sql import SparkSession\n",
        "from pyspark.sql.types import *\n",
        "spark = SparkSession.builder.config('spark.some.config.option','some-value').getOrCreate()\n",
        "spark"
      ],
      "metadata": {
        "colab": {
          "base_uri": "https://localhost:8080/",
          "height": 222
        },
        "id": "yfZeYJ3o67WF",
        "outputId": "f737bf7a-efda-4547-f1d3-b76855fdd6e4"
      },
      "execution_count": null,
      "outputs": [
        {
          "output_type": "execute_result",
          "data": {
            "text/plain": [
              "<pyspark.sql.session.SparkSession at 0x7f16b2eb8640>"
            ],
            "text/html": [
              "\n",
              "            <div>\n",
              "                <p><b>SparkSession - in-memory</b></p>\n",
              "                \n",
              "        <div>\n",
              "            <p><b>SparkContext</b></p>\n",
              "\n",
              "            <p><a href=\"http://38f776681fc1:4040\">Spark UI</a></p>\n",
              "\n",
              "            <dl>\n",
              "              <dt>Version</dt>\n",
              "                <dd><code>v3.3.2</code></dd>\n",
              "              <dt>Master</dt>\n",
              "                <dd><code>local[*]</code></dd>\n",
              "              <dt>AppName</dt>\n",
              "                <dd><code>pyspark-shell</code></dd>\n",
              "            </dl>\n",
              "        </div>\n",
              "        \n",
              "            </div>\n",
              "        "
            ]
          },
          "metadata": {},
          "execution_count": 2
        }
      ]
    },
    {
      "cell_type": "code",
      "source": [
        "from pyspark.sql.types import StringType, StringType, IntegerType, DoubleType, DataType, LongType\n",
        "\n",
        "schema = StructType([\n",
        "    StructField('Store', StringType(), True),\n",
        "    StructField('Type',StringType(), True),\n",
        "    StructField('Size',DoubleType(), True)\n",
        "])"
      ],
      "metadata": {
        "id": "oCPvn7Me0osr"
      },
      "execution_count": null,
      "outputs": []
    },
    {
      "cell_type": "code",
      "source": [
        "df_store=spark.read.format(\"csv\").option(\"header\",\"True\").schema(schema).load(\"/content/drive/MyDrive/Final Project/datasets/stores.csv\")"
      ],
      "metadata": {
        "id": "2Fff2pbs0qUE"
      },
      "execution_count": null,
      "outputs": []
    },
    {
      "cell_type": "code",
      "source": [
        "df_store.show()"
      ],
      "metadata": {
        "colab": {
          "base_uri": "https://localhost:8080/"
        },
        "id": "_lCnefMi0sF7",
        "outputId": "65a1396c-92b3-4ccb-8cab-d794fd94ff67"
      },
      "execution_count": null,
      "outputs": [
        {
          "output_type": "stream",
          "name": "stdout",
          "text": [
            "+-----+----+--------+\n",
            "|Store|Type|    Size|\n",
            "+-----+----+--------+\n",
            "|    1|   A|151315.0|\n",
            "|    2|   A|202307.0|\n",
            "|    3|   B| 37392.0|\n",
            "|    4|   A|205863.0|\n",
            "|    5|   B| 34875.0|\n",
            "|    6|   A|202505.0|\n",
            "|    7|   B| 70713.0|\n",
            "|    8|   A|155078.0|\n",
            "|    9|   B|125833.0|\n",
            "|   10|   B|126512.0|\n",
            "|   11|   A|207499.0|\n",
            "|   12|   B|112238.0|\n",
            "|   13|   A|219622.0|\n",
            "|   14|   A|200898.0|\n",
            "|   15|   B|123737.0|\n",
            "|   16|   B| 57197.0|\n",
            "|   17|   B| 93188.0|\n",
            "|   18|   B|120653.0|\n",
            "|   19|   A|203819.0|\n",
            "|   20|   A|203742.0|\n",
            "+-----+----+--------+\n",
            "only showing top 20 rows\n",
            "\n"
          ]
        }
      ]
    },
    {
      "cell_type": "code",
      "source": [
        "df_store.registerTempTable(\"store\")"
      ],
      "metadata": {
        "colab": {
          "base_uri": "https://localhost:8080/"
        },
        "id": "OwiD0sbM0szz",
        "outputId": "beaf622a-8e23-4042-f966-3b943f825411"
      },
      "execution_count": null,
      "outputs": [
        {
          "output_type": "stream",
          "name": "stderr",
          "text": [
            "/usr/local/lib/python3.8/dist-packages/pyspark/sql/dataframe.py:229: FutureWarning: Deprecated in 2.0, use createOrReplaceTempView instead.\n",
            "  warnings.warn(\"Deprecated in 2.0, use createOrReplaceTempView instead.\", FutureWarning)\n"
          ]
        }
      ]
    },
    {
      "cell_type": "code",
      "source": [
        "spark.sql(\"select * from store\").show(5)"
      ],
      "metadata": {
        "colab": {
          "base_uri": "https://localhost:8080/"
        },
        "id": "nD5bt0vm0w0O",
        "outputId": "4673add3-662a-439e-ff9d-049411320882"
      },
      "execution_count": null,
      "outputs": [
        {
          "output_type": "stream",
          "name": "stdout",
          "text": [
            "+-----+----+--------+\n",
            "|Store|Type|    Size|\n",
            "+-----+----+--------+\n",
            "|    1|   A|151315.0|\n",
            "|    2|   A|202307.0|\n",
            "|    3|   B| 37392.0|\n",
            "|    4|   A|205863.0|\n",
            "|    5|   B| 34875.0|\n",
            "+-----+----+--------+\n",
            "only showing top 5 rows\n",
            "\n"
          ]
        }
      ]
    },
    {
      "cell_type": "code",
      "source": [
        "from pyspark.sql.types import StringType, StringType, IntegerType, DoubleType, DateType, LongType\n",
        "\n",
        "schema1 = StructType([\n",
        "    StructField('Index', IntegerType(), True),\n",
        "    StructField('Store', IntegerType(), True),\n",
        "    StructField('Date',DateType(), True),\n",
        "    StructField('Store_Weekly_Sales',DoubleType(), True),\n",
        "    StructField('Temperature',DoubleType(), True),\n",
        "    StructField('Fuel_Price', DoubleType(), True),\n",
        "    StructField('CPI',DoubleType(), True),\n",
        "    StructField('Unemployment',DoubleType(), True),\n",
        "    StructField('IsHoliday', StringType(), True),\n",
        "    StructField('Week',IntegerType(), True),\n",
        "    StructField('Month',IntegerType(), True),\n",
        "    StructField('Year', IntegerType(), True),\n",
        "    StructField('Quarter',IntegerType(), True),\n",
        "    StructField('MarkDown',DoubleType(), True)\n",
        "])"
      ],
      "metadata": {
        "id": "kzPkgVQL03TK"
      },
      "execution_count": null,
      "outputs": []
    },
    {
      "cell_type": "code",
      "source": [
        "df_Sale_Store=spark.read.format(\"csv\").option(\"header\",\"True\").schema(schema1).load(\"/content/drive/MyDrive/Final Project/Out1/store_sales.csv\")"
      ],
      "metadata": {
        "id": "ACPZlwJp03V0"
      },
      "execution_count": null,
      "outputs": []
    },
    {
      "cell_type": "code",
      "source": [
        "df_Sale_Store.show()"
      ],
      "metadata": {
        "colab": {
          "base_uri": "https://localhost:8080/"
        },
        "id": "dftJV02L2W18",
        "outputId": "5c3d545d-1acf-4b4f-e3b7-67f67162117f"
      },
      "execution_count": null,
      "outputs": [
        {
          "output_type": "stream",
          "name": "stdout",
          "text": [
            "+-----+-----+----------+------------------+-----------+----------+-----------+------------+---------+----+-----+----+-------+--------+\n",
            "|Index|Store|      Date|Store_Weekly_Sales|Temperature|Fuel_Price|        CPI|Unemployment|IsHoliday|Week|Month|Year|Quarter|MarkDown|\n",
            "+-----+-----+----------+------------------+-----------+----------+-----------+------------+---------+----+-----+----+-------+--------+\n",
            "|  0.0|  1.0|2010-02-05|         1643.6909|      42.31|     2.572|211.0963582|       8.106|    False|   5|    2|2010|      1|    null|\n",
            "|  1.0|  1.0|2010-02-12|1641.9574400000001|      38.51|     2.548|211.2421698|       8.106|     True|   6|    2|2010|      1|    null|\n",
            "|  2.0|  1.0|2010-02-19|        1611.96817|      39.93|     2.514|211.2891429|       8.106|    False|   7|    2|2010|      1|    null|\n",
            "|  3.0|  1.0|2010-02-26|        1409.72759|      46.63|     2.561|211.3196429|       8.106|    False|   8|    2|2010|      1|    null|\n",
            "|  4.0|  1.0|2010-03-05|1554.8066800000001|       46.5|     2.625|211.3501429|       8.106|    False|   9|    3|2010|      1|    null|\n",
            "|  5.0|  1.0|2010-03-12|        1439.54159|      57.79|     2.667|211.3806429|       8.106|    False|  10|    3|2010|      1|    null|\n",
            "|  6.0|  1.0|2010-03-19|        1472.51579|      54.58|      2.72| 211.215635|       8.106|    False|  11|    3|2010|      1|    null|\n",
            "|  7.0|  1.0|2010-03-26|        1404.42992|      51.45|     2.732|211.0180424|       8.106|    False|  12|    3|2010|      1|    null|\n",
            "|  8.0|  1.0|2010-04-02|        1594.96828|      62.27|     2.719|210.8204499|       7.808|    False|  13|    4|2010|      2|    null|\n",
            "|  9.0|  1.0|2010-04-09|        1545.41853|      65.86|      2.77|210.6228574|       7.808|    False|  14|    4|2010|      2|    null|\n",
            "| 10.0|  1.0|2010-04-16|        1466.05828|      66.32|     2.808|   210.4887|       7.808|    False|  15|    4|2010|      2|    null|\n",
            "| 11.0|  1.0|2010-04-23|        1391.25612|      64.84|     2.795|210.4391228|       7.808|    False|  16|    4|2010|      2|    null|\n",
            "| 12.0|  1.0|2010-04-30|        1425.10071|      67.41|      2.78|210.3895456|       7.808|    False|  17|    4|2010|      2|    null|\n",
            "| 13.0|  1.0|2010-05-07|1603.9551199999999|      72.55|     2.835|210.3399684|       7.808|    False|  18|    5|2010|      2|    null|\n",
            "| 14.0|  1.0|2010-05-14|         1494.2515|      74.78|     2.854|210.3374261|       7.808|    False|  19|    5|2010|      2|    null|\n",
            "| 15.0|  1.0|2010-05-21|        1399.66207|      76.44|     2.826|210.6170934|       7.808|    False|  20|    5|2010|      2|    null|\n",
            "| 16.0|  1.0|2010-05-28|        1432.06995|      80.44|     2.759|210.8967606|       7.808|    False|  21|    5|2010|      2|    null|\n",
            "| 17.0|  1.0|2010-06-04|        1615.52471|      80.69|     2.705|211.1764278|       7.808|    False|  22|    6|2010|      2|    null|\n",
            "| 18.0|  1.0|2010-06-11|        1542.56109|      80.43|     2.668|211.4560951|       7.808|    False|  23|    6|2010|      2|    null|\n",
            "| 19.0|  1.0|2010-06-18|        1503.28406|      84.11|     2.637|211.4537719|       7.808|    False|  24|    6|2010|      2|    null|\n",
            "+-----+-----+----------+------------------+-----------+----------+-----------+------------+---------+----+-----+----+-------+--------+\n",
            "only showing top 20 rows\n",
            "\n"
          ]
        }
      ]
    },
    {
      "cell_type": "code",
      "source": [
        "df_Sale_Store.registerTempTable(\"store_sale\")"
      ],
      "metadata": {
        "id": "AfuKf-LM2W4q"
      },
      "execution_count": null,
      "outputs": []
    },
    {
      "cell_type": "code",
      "source": [
        "spark.sql(\"select * from store_sale\").show(5)"
      ],
      "metadata": {
        "colab": {
          "base_uri": "https://localhost:8080/"
        },
        "id": "7RZsaimb2crk",
        "outputId": "f452f368-89c9-4d2c-e201-114863873d94"
      },
      "execution_count": null,
      "outputs": [
        {
          "output_type": "stream",
          "name": "stdout",
          "text": [
            "+-----+-----+----------+------------------+-----------+----------+-----------+------------+---------+----+-----+----+-------+--------+\n",
            "|Index|Store|      Date|Store_Weekly_Sales|Temperature|Fuel_Price|        CPI|Unemployment|IsHoliday|Week|Month|Year|Quarter|MarkDown|\n",
            "+-----+-----+----------+------------------+-----------+----------+-----------+------------+---------+----+-----+----+-------+--------+\n",
            "|  0.0|  1.0|2010-02-05|         1643.6909|      42.31|     2.572|211.0963582|       8.106|    False|   5|    2|2010|      1|    null|\n",
            "|  1.0|  1.0|2010-02-12|1641.9574400000001|      38.51|     2.548|211.2421698|       8.106|     True|   6|    2|2010|      1|    null|\n",
            "|  2.0|  1.0|2010-02-19|        1611.96817|      39.93|     2.514|211.2891429|       8.106|    False|   7|    2|2010|      1|    null|\n",
            "|  3.0|  1.0|2010-02-26|        1409.72759|      46.63|     2.561|211.3196429|       8.106|    False|   8|    2|2010|      1|    null|\n",
            "|  4.0|  1.0|2010-03-05|1554.8066800000001|       46.5|     2.625|211.3501429|       8.106|    False|   9|    3|2010|      1|    null|\n",
            "+-----+-----+----------+------------------+-----------+----------+-----------+------------+---------+----+-----+----+-------+--------+\n",
            "only showing top 5 rows\n",
            "\n"
          ]
        }
      ]
    },
    {
      "cell_type": "code",
      "source": [
        "#. Number of stores in each store Type\n",
        "\n",
        "q1=spark.sql(\"Select Type, count(store) store_count from store group by Type order by store_count  desc\")\n",
        "q1.show()"
      ],
      "metadata": {
        "colab": {
          "base_uri": "https://localhost:8080/"
        },
        "id": "RPwYJic-8KYL",
        "outputId": "9ce02ed1-1355-4f41-be25-f34156f89362"
      },
      "execution_count": null,
      "outputs": [
        {
          "output_type": "stream",
          "name": "stdout",
          "text": [
            "+----+-----------+\n",
            "|Type|store_count|\n",
            "+----+-----------+\n",
            "|   A|         22|\n",
            "|   B|         17|\n",
            "|   C|          6|\n",
            "|Type|          1|\n",
            "+----+-----------+\n",
            "\n"
          ]
        }
      ]
    },
    {
      "cell_type": "code",
      "source": [
        "#Total sale by store \n",
        "\n",
        "q2=spark.sql(\"select Store, sum(Store_Weekly_Sales) from store_sale group by Store\")\n",
        "q2.show()"
      ],
      "metadata": {
        "colab": {
          "base_uri": "https://localhost:8080/"
        },
        "id": "XuRrTF6V8Rnb",
        "outputId": "8ba04baf-6f90-4172-be99-bf6766935f98"
      },
      "execution_count": null,
      "outputs": [
        {
          "output_type": "stream",
          "name": "stdout",
          "text": [
            "+-----+-----------------------+\n",
            "|Store|sum(Store_Weekly_Sales)|\n",
            "+-----+-----------------------+\n",
            "|  8.0|           129951.18113|\n",
            "|  7.0|      81598.27514000001|\n",
            "| 29.0|      77141.55430999999|\n",
            "| 42.0|      79565.75243000001|\n",
            "| 44.0|      43293.08784000002|\n",
            "| 35.0|     131520.67207999993|\n",
            "| 18.0|     155114.73421000005|\n",
            "|  1.0|     222402.80884999997|\n",
            "| 39.0|     207445.54247000004|\n",
            "| 34.0|     138249.76299999998|\n",
            "| 37.0|      74202.74032000006|\n",
            "| 25.0|     101061.17917000002|\n",
            "| 36.0|      53412.21496999999|\n",
            "| 41.0|      181341.9348900001|\n",
            "|  4.0|      299543.9533800001|\n",
            "| 23.0|     198750.61785000004|\n",
            "| 45.0|     112395.34142000001|\n",
            "| 31.0|     199613.90549999994|\n",
            "| 11.0|      193962.7868000001|\n",
            "| 21.0|     108117.87891999997|\n",
            "+-----+-----------------------+\n",
            "only showing top 20 rows\n",
            "\n"
          ]
        }
      ]
    },
    {
      "cell_type": "code",
      "source": [
        "# Top 10 stores which are making the highest Sales.\n",
        "\n",
        "spark.sql(\"select Store, sum(Store_Weekly_Sales) as Store_sales from store_sale group by Store order by Store_sales Desc limit 10\").show()"
      ],
      "metadata": {
        "colab": {
          "base_uri": "https://localhost:8080/"
        },
        "id": "2N0TW5N0_DdM",
        "outputId": "17afdc17-c280-4955-acd9-e76838df2eaf"
      },
      "execution_count": null,
      "outputs": [
        {
          "output_type": "stream",
          "name": "stdout",
          "text": [
            "+-----+------------------+\n",
            "|Store|       Store_sales|\n",
            "+-----+------------------+\n",
            "| 20.0| 301397.7924599999|\n",
            "|  4.0| 299543.9533800001|\n",
            "| 14.0| 288999.9113400001|\n",
            "| 13.0| 286517.7037999999|\n",
            "|  2.0|275382.44098000013|\n",
            "| 10.0|271617.71389000013|\n",
            "| 27.0|253855.91687999998|\n",
            "|  6.0|223756.13063999993|\n",
            "|  1.0|222402.80884999997|\n",
            "| 39.0|207445.54247000004|\n",
            "+-----+------------------+\n",
            "\n"
          ]
        }
      ]
    },
    {
      "cell_type": "code",
      "source": [
        "#Bottom 10 stores which are making the highest Sales.\n",
        "\n",
        "spark.sql(\"select Store, sum(Store_Weekly_Sales) as salesByStores from store_sale group by Store order by salesByStores limit 10\").show()"
      ],
      "metadata": {
        "colab": {
          "base_uri": "https://localhost:8080/"
        },
        "id": "QiHjGMKqA3RK",
        "outputId": "bd4aea3d-5ed9-417d-e9cc-5e8dd3c57918"
      },
      "execution_count": null,
      "outputs": [
        {
          "output_type": "stream",
          "name": "stdout",
          "text": [
            "+-----+-----------------+\n",
            "|Store|    salesByStores|\n",
            "+-----+-----------------+\n",
            "| 33.0|37160.22195999999|\n",
            "| 44.0|43293.08784000002|\n",
            "|  5.0|45475.68889999999|\n",
            "| 36.0|53412.21496999999|\n",
            "| 38.0|55159.62641999997|\n",
            "|  3.0|57586.73506999998|\n",
            "| 30.0|62716.88512000001|\n",
            "| 37.0|74202.74032000006|\n",
            "| 16.0|74252.42540000002|\n",
            "| 29.0|77141.55430999999|\n",
            "+-----+-----------------+\n",
            "\n"
          ]
        }
      ]
    },
    {
      "cell_type": "code",
      "source": [
        "#Q5. What is the max sales per week?\n",
        "spark.sql(\"select Store, max(Store_Weekly_Sales) as max_sale from store_sale group by Store\").show()"
      ],
      "metadata": {
        "colab": {
          "base_uri": "https://localhost:8080/"
        },
        "id": "jbD4X6WeB6f9",
        "outputId": "c7a5d8c7-53cd-4cbb-8667-b583e9c620f8"
      },
      "execution_count": null,
      "outputs": [
        {
          "output_type": "stream",
          "name": "stdout",
          "text": [
            "+-----+------------------+\n",
            "|Store|          max_sale|\n",
            "+-----+------------------+\n",
            "|  8.0|        1511.64109|\n",
            "|  7.0|        1059.71527|\n",
            "| 29.0|        1130.92679|\n",
            "| 42.0|         674.91945|\n",
            "| 44.0|         376.23389|\n",
            "| 35.0|        1781.86698|\n",
            "| 18.0|2027.5071500000001|\n",
            "|  1.0|         2387.9502|\n",
            "| 39.0|        2554.48284|\n",
            "| 34.0|        1620.74825|\n",
            "| 37.0|         605.79146|\n",
            "| 25.0|        1295.39119|\n",
            "| 36.0|489.37201999999996|\n",
            "| 41.0|        2263.72268|\n",
            "|  4.0|        3676.38898|\n",
            "| 23.0|         2734.2771|\n",
            "| 45.0|        1682.86203|\n",
            "| 31.0|        2068.94297|\n",
            "| 11.0|        2306.26536|\n",
            "| 21.0|        1587.25778|\n",
            "+-----+------------------+\n",
            "only showing top 20 rows\n",
            "\n"
          ]
        }
      ]
    },
    {
      "cell_type": "code",
      "source": [
        "# What is the min weekly sales?\n",
        "spark.sql(\"select Store, min(Store_Weekly_Sales) as min_sale from store_sale group by Store\").show()"
      ],
      "metadata": {
        "colab": {
          "base_uri": "https://localhost:8080/"
        },
        "id": "XSxKLWmQCtKk",
        "outputId": "54d22fe7-ef7d-4738-85e6-04d422c39297"
      },
      "execution_count": null,
      "outputs": [
        {
          "output_type": "stream",
          "name": "stdout",
          "text": [
            "+-----+------------------+\n",
            "|Store|          min_sale|\n",
            "+-----+------------------+\n",
            "|  8.0|         772.53912|\n",
            "|  7.0|         372.67361|\n",
            "| 29.0|         395.98724|\n",
            "| 42.0|          428.9536|\n",
            "| 44.0|         241.93711|\n",
            "| 35.0|         576.33205|\n",
            "| 18.0|         540.92294|\n",
            "|  1.0|        1316.89931|\n",
            "| 39.0|1158.6984400000001|\n",
            "| 34.0|         836.71775|\n",
            "| 37.0|         451.32761|\n",
            "| 25.0|         558.79463|\n",
            "| 36.0|         270.67798|\n",
            "| 41.0|         991.94173|\n",
            "|  4.0|         1762.5393|\n",
            "| 23.0|1016.7561000000001|\n",
            "| 45.0|         617.20758|\n",
            "| 31.0|         1198.0716|\n",
            "| 11.0|        1100.41869|\n",
            "| 21.0|         596.21824|\n",
            "+-----+------------------+\n",
            "only showing top 20 rows\n",
            "\n"
          ]
        }
      ]
    },
    {
      "cell_type": "code",
      "source": [
        "# Total sales on week of Holiday And week of not having Holiday.\n",
        "\n",
        "spark.sql(\"select IsHoliday, sum(Store_Weekly_Sales) as Sales from store_sale group by IsHoliday order by Sales limit 10\").show()"
      ],
      "metadata": {
        "colab": {
          "base_uri": "https://localhost:8080/"
        },
        "id": "WzmMG2o_C27U",
        "outputId": "f6ca4dc4-0303-46dd-8d8b-143a2a94f052"
      },
      "execution_count": null,
      "outputs": [
        {
          "output_type": "stream",
          "name": "stdout",
          "text": [
            "+---------+------------------+\n",
            "|IsHoliday|             Sales|\n",
            "+---------+------------------+\n",
            "|     True|505299.55155999964|\n",
            "|    False| 6231919.435550011|\n",
            "+---------+------------------+\n",
            "\n"
          ]
        }
      ]
    },
    {
      "cell_type": "code",
      "source": [
        "#Top 10 stores by Markdown.\n",
        "\n",
        "spark.sql(\"select Store, sum(MarkDown) as Total_MarkDown from store_sale group by Store order by Total_MarkDown limit 10\").show()"
      ],
      "metadata": {
        "colab": {
          "base_uri": "https://localhost:8080/"
        },
        "id": "jKTRyb79DTId",
        "outputId": "d35cf4dd-c586-48e7-896d-34fc6fe83028"
      },
      "execution_count": null,
      "outputs": [
        {
          "output_type": "stream",
          "name": "stdout",
          "text": [
            "+-----+------------------+\n",
            "|Store|    Total_MarkDown|\n",
            "+-----+------------------+\n",
            "| 36.0|           3166.27|\n",
            "| 44.0|           3177.58|\n",
            "| 33.0| 4263.049999999999|\n",
            "| 37.0|           5595.78|\n",
            "| 42.0|           6599.31|\n",
            "| 43.0| 7132.429999999999|\n",
            "| 30.0| 9124.740000000002|\n",
            "| 38.0|21096.229999999996|\n",
            "|  3.0|         218271.93|\n",
            "|  9.0|244522.56000000003|\n",
            "+-----+------------------+\n",
            "\n"
          ]
        }
      ]
    },
    {
      "cell_type": "code",
      "source": [
        "# Find how much Sales is done per Year\n",
        "spark.sql(\"select Year, sum(Store_Weekly_Sales) as Sales_per_Year from store_sale group by Year order by Sales_per_Year\").show()"
      ],
      "metadata": {
        "colab": {
          "base_uri": "https://localhost:8080/"
        },
        "id": "gf-gQWBdDp53",
        "outputId": "bed18a1c-2739-4581-d76e-25c128ab6a38"
      },
      "execution_count": null,
      "outputs": [
        {
          "output_type": "stream",
          "name": "stdout",
          "text": [
            "+----+------------------+\n",
            "|Year|    Sales_per_Year|\n",
            "+----+------------------+\n",
            "|2012|2000132.8593499996|\n",
            "|2010|2288886.1204099986|\n",
            "|2011|     2448200.00735|\n",
            "+----+------------------+\n",
            "\n"
          ]
        }
      ]
    },
    {
      "cell_type": "code",
      "source": [],
      "metadata": {
        "id": "Yuyrzo5_T38v"
      },
      "execution_count": null,
      "outputs": []
    },
    {
      "cell_type": "code",
      "source": [
        "spark.stop()"
      ],
      "metadata": {
        "id": "Yi4UmvmjEH9d"
      },
      "execution_count": null,
      "outputs": []
    }
  ]
}